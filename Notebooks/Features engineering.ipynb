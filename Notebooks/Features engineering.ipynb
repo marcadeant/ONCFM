{
 "cells": [
  {
   "cell_type": "code",
   "execution_count": 1,
   "id": "e3230962",
   "metadata": {},
   "outputs": [],
   "source": [
    "import pandas as pd\n",
    "from matplotlib import pyplot as plt\n",
    "import seaborn as sns\n",
    "from tools import oneD_analysis\n",
    "import numpy as np"
   ]
  },
  {
   "cell_type": "code",
   "execution_count": 2,
   "id": "b6808d24",
   "metadata": {},
   "outputs": [],
   "source": [
    "initial_data = pd.read_csv(\"../Data/billets.csv\", sep=\";\")"
   ]
  },
  {
   "cell_type": "code",
   "execution_count": 3,
   "id": "ce5be168",
   "metadata": {},
   "outputs": [
    {
     "data": {
      "text/html": [
       "<div>\n",
       "<style scoped>\n",
       "    .dataframe tbody tr th:only-of-type {\n",
       "        vertical-align: middle;\n",
       "    }\n",
       "\n",
       "    .dataframe tbody tr th {\n",
       "        vertical-align: top;\n",
       "    }\n",
       "\n",
       "    .dataframe thead th {\n",
       "        text-align: right;\n",
       "    }\n",
       "</style>\n",
       "<table border=\"1\" class=\"dataframe\">\n",
       "  <thead>\n",
       "    <tr style=\"text-align: right;\">\n",
       "      <th></th>\n",
       "      <th>is_genuine</th>\n",
       "      <th>diagonal</th>\n",
       "      <th>height_left</th>\n",
       "      <th>height_right</th>\n",
       "      <th>margin_low</th>\n",
       "      <th>margin_up</th>\n",
       "      <th>length</th>\n",
       "    </tr>\n",
       "  </thead>\n",
       "  <tbody>\n",
       "    <tr>\n",
       "      <th>0</th>\n",
       "      <td>True</td>\n",
       "      <td>171.81</td>\n",
       "      <td>104.86</td>\n",
       "      <td>104.95</td>\n",
       "      <td>4.52</td>\n",
       "      <td>2.89</td>\n",
       "      <td>112.83</td>\n",
       "    </tr>\n",
       "    <tr>\n",
       "      <th>1</th>\n",
       "      <td>True</td>\n",
       "      <td>171.46</td>\n",
       "      <td>103.36</td>\n",
       "      <td>103.66</td>\n",
       "      <td>3.77</td>\n",
       "      <td>2.99</td>\n",
       "      <td>113.09</td>\n",
       "    </tr>\n",
       "    <tr>\n",
       "      <th>2</th>\n",
       "      <td>True</td>\n",
       "      <td>172.69</td>\n",
       "      <td>104.48</td>\n",
       "      <td>103.50</td>\n",
       "      <td>4.40</td>\n",
       "      <td>2.94</td>\n",
       "      <td>113.16</td>\n",
       "    </tr>\n",
       "    <tr>\n",
       "      <th>3</th>\n",
       "      <td>True</td>\n",
       "      <td>171.36</td>\n",
       "      <td>103.91</td>\n",
       "      <td>103.94</td>\n",
       "      <td>3.62</td>\n",
       "      <td>3.01</td>\n",
       "      <td>113.51</td>\n",
       "    </tr>\n",
       "    <tr>\n",
       "      <th>4</th>\n",
       "      <td>True</td>\n",
       "      <td>171.73</td>\n",
       "      <td>104.28</td>\n",
       "      <td>103.46</td>\n",
       "      <td>4.04</td>\n",
       "      <td>3.48</td>\n",
       "      <td>112.54</td>\n",
       "    </tr>\n",
       "  </tbody>\n",
       "</table>\n",
       "</div>"
      ],
      "text/plain": [
       "   is_genuine  diagonal  height_left  height_right  margin_low  margin_up  \\\n",
       "0        True    171.81       104.86        104.95        4.52       2.89   \n",
       "1        True    171.46       103.36        103.66        3.77       2.99   \n",
       "2        True    172.69       104.48        103.50        4.40       2.94   \n",
       "3        True    171.36       103.91        103.94        3.62       3.01   \n",
       "4        True    171.73       104.28        103.46        4.04       3.48   \n",
       "\n",
       "   length  \n",
       "0  112.83  \n",
       "1  113.09  \n",
       "2  113.16  \n",
       "3  113.51  \n",
       "4  112.54  "
      ]
     },
     "execution_count": 3,
     "metadata": {},
     "output_type": "execute_result"
    }
   ],
   "source": [
    "initial_data.head(5)"
   ]
  },
  {
   "cell_type": "code",
   "execution_count": 4,
   "id": "edcc57ea",
   "metadata": {},
   "outputs": [
    {
     "data": {
      "text/plain": [
       "True     1000\n",
       "False     500\n",
       "Name: is_genuine, dtype: int64"
      ]
     },
     "execution_count": 4,
     "metadata": {},
     "output_type": "execute_result"
    }
   ],
   "source": [
    "initial_data[\"is_genuine\"].value_counts()"
   ]
  },
  {
   "cell_type": "code",
   "execution_count": 5,
   "id": "3aedfea6",
   "metadata": {},
   "outputs": [
    {
     "data": {
      "image/png": "[encoded data removed]",
      "text/plain": [
       "<Figure size 432x288 with 1 Axes>"
      ]
     },
     "metadata": {},
     "output_type": "display_data"
    }
   ],
   "source": [
    "plt.pie(initial_data[\"is_genuine\"].value_counts(normalize=True), labels=[\"True\",\"False\"], autopct='%1.1f%%')\n",
    "plt.show()"
   ]
  },
  {
   "cell_type": "code",
   "execution_count": 6,
   "id": "cc552d53",
   "metadata": {},
   "outputs": [
    {
     "data": {
      "text/plain": [
       "is_genuine       0\n",
       "diagonal         0\n",
       "height_left      0\n",
       "height_right     0\n",
       "margin_low      37\n",
       "margin_up        0\n",
       "length           0\n",
       "dtype: int64"
      ]
     },
     "execution_count": 6,
     "metadata": {},
     "output_type": "execute_result"
    }
   ],
   "source": [
    "initial_data.isna().sum()"
   ]
  },
  {
   "cell_type": "markdown",
   "id": "78f0826f",
   "metadata": {},
   "source": [
    "## Outlier's detection and correction"
   ]
  },
  {
   "cell_type": "code",
   "execution_count": 7,
   "id": "4bb48dee",
   "metadata": {},
   "outputs": [],
   "source": [
    "features = initial_data.columns[1:].values"
   ]
  },
  {
   "cell_type": "code",
   "execution_count": 8,
   "id": "28a5b0f1",
   "metadata": {},
   "outputs": [
    {
     "data": {
      "text/plain": [
       "array(['diagonal', 'height_left', 'height_right', 'margin_low',\n",
       "       'margin_up', 'length'], dtype=object)"
      ]
     },
     "execution_count": 8,
     "metadata": {},
     "output_type": "execute_result"
    }
   ],
   "source": [
    "features"
   ]
  },
  {
   "cell_type": "code",
   "execution_count": 58,
   "id": "6cc8ea4f",
   "metadata": {
    "scrolled": false
   },
   "outputs": [
    {
     "data": {
      "image/png": "[encoded data removed]",
      "text/plain": [
       "<Figure size 1152x720 with 6 Axes>"
      ]
     },
     "metadata": {
      "needs_background": "light"
     },
     "output_type": "display_data"
    }
   ],
   "source": [
    "fig, ax = plt.subplots(2,3, figsize=(16,10))\n",
    "box_indice = [(i,j) for i in range(0,2) for j in range(0,3)]\n",
    "compteur = 0\n",
    "for feature in features :\n",
    "        row,column = box_indice[compteur]\n",
    "        sns.boxplot(x=\"is_genuine\", y=feature,\n",
    "                     data=initial_data, palette=\"Set3\", ax=ax[row,column])\n",
    "        compteur+=1"
   ]
  },
  {
   "cell_type": "markdown",
   "id": "0e6c14c6",
   "metadata": {},
   "source": [
    "**Note** : \n",
    "* La différence entre **un vrai** et **un faux** billet est marquée par **la marge inférieure/supérieure** et **la longueur horizontale** du billet  \n",
    "* Très peu d'outliers éloignés des extrémités de l'ensemble de définition de nos variables  \n",
    "\n",
    "**Action** : \n",
    "* Il est utile de garder les outliers des faux billets caractéristiques **d'une proportion non conforme**\n",
    "* Nous supprimerons les outliers de la classe positive (billets authentiques) afin d'améliorer **la qualité des données** pour cette classe et ainsi améliorer **la prédiction finale** de notre modèle"
   ]
  },
  {
   "cell_type": "code",
   "execution_count": null,
   "id": "3e71aada",
   "metadata": {},
   "outputs": [],
   "source": [
    "# Box plot pour chaque feature"
   ]
  },
  {
   "cell_type": "code",
   "execution_count": 10,
   "id": "d56e2ee3",
   "metadata": {},
   "outputs": [
    {
     "data": {
      "text/html": [
       "<div>\n",
       "<style scoped>\n",
       "    .dataframe tbody tr th:only-of-type {\n",
       "        vertical-align: middle;\n",
       "    }\n",
       "\n",
       "    .dataframe tbody tr th {\n",
       "        vertical-align: top;\n",
       "    }\n",
       "\n",
       "    .dataframe thead th {\n",
       "        text-align: right;\n",
       "    }\n",
       "</style>\n",
       "<table border=\"1\" class=\"dataframe\">\n",
       "  <thead>\n",
       "    <tr style=\"text-align: right;\">\n",
       "      <th></th>\n",
       "      <th>diagonal</th>\n",
       "      <th>height_left</th>\n",
       "      <th>height_right</th>\n",
       "      <th>margin_low</th>\n",
       "      <th>margin_up</th>\n",
       "      <th>length</th>\n",
       "    </tr>\n",
       "  </thead>\n",
       "  <tbody>\n",
       "    <tr>\n",
       "      <th>count</th>\n",
       "      <td>1500.000000</td>\n",
       "      <td>1500.000000</td>\n",
       "      <td>1500.000000</td>\n",
       "      <td>1463.000000</td>\n",
       "      <td>1500.000000</td>\n",
       "      <td>1500.00000</td>\n",
       "    </tr>\n",
       "    <tr>\n",
       "      <th>mean</th>\n",
       "      <td>171.958440</td>\n",
       "      <td>104.029533</td>\n",
       "      <td>103.920307</td>\n",
       "      <td>4.485967</td>\n",
       "      <td>3.151473</td>\n",
       "      <td>112.67850</td>\n",
       "    </tr>\n",
       "    <tr>\n",
       "      <th>std</th>\n",
       "      <td>0.305195</td>\n",
       "      <td>0.299462</td>\n",
       "      <td>0.325627</td>\n",
       "      <td>0.663813</td>\n",
       "      <td>0.231813</td>\n",
       "      <td>0.87273</td>\n",
       "    </tr>\n",
       "    <tr>\n",
       "      <th>min</th>\n",
       "      <td>171.040000</td>\n",
       "      <td>103.140000</td>\n",
       "      <td>102.820000</td>\n",
       "      <td>2.980000</td>\n",
       "      <td>2.270000</td>\n",
       "      <td>109.49000</td>\n",
       "    </tr>\n",
       "    <tr>\n",
       "      <th>25%</th>\n",
       "      <td>171.750000</td>\n",
       "      <td>103.820000</td>\n",
       "      <td>103.710000</td>\n",
       "      <td>4.015000</td>\n",
       "      <td>2.990000</td>\n",
       "      <td>112.03000</td>\n",
       "    </tr>\n",
       "    <tr>\n",
       "      <th>50%</th>\n",
       "      <td>171.960000</td>\n",
       "      <td>104.040000</td>\n",
       "      <td>103.920000</td>\n",
       "      <td>4.310000</td>\n",
       "      <td>3.140000</td>\n",
       "      <td>112.96000</td>\n",
       "    </tr>\n",
       "    <tr>\n",
       "      <th>75%</th>\n",
       "      <td>172.170000</td>\n",
       "      <td>104.230000</td>\n",
       "      <td>104.150000</td>\n",
       "      <td>4.870000</td>\n",
       "      <td>3.310000</td>\n",
       "      <td>113.34000</td>\n",
       "    </tr>\n",
       "    <tr>\n",
       "      <th>max</th>\n",
       "      <td>173.010000</td>\n",
       "      <td>104.880000</td>\n",
       "      <td>104.950000</td>\n",
       "      <td>6.900000</td>\n",
       "      <td>3.910000</td>\n",
       "      <td>114.44000</td>\n",
       "    </tr>\n",
       "  </tbody>\n",
       "</table>\n",
       "</div>"
      ],
      "text/plain": [
       "          diagonal  height_left  height_right   margin_low    margin_up  \\\n",
       "count  1500.000000  1500.000000   1500.000000  1463.000000  1500.000000   \n",
       "mean    171.958440   104.029533    103.920307     4.485967     3.151473   \n",
       "std       0.305195     0.299462      0.325627     0.663813     0.231813   \n",
       "min     171.040000   103.140000    102.820000     2.980000     2.270000   \n",
       "25%     171.750000   103.820000    103.710000     4.015000     2.990000   \n",
       "50%     171.960000   104.040000    103.920000     4.310000     3.140000   \n",
       "75%     172.170000   104.230000    104.150000     4.870000     3.310000   \n",
       "max     173.010000   104.880000    104.950000     6.900000     3.910000   \n",
       "\n",
       "           length  \n",
       "count  1500.00000  \n",
       "mean    112.67850  \n",
       "std       0.87273  \n",
       "min     109.49000  \n",
       "25%     112.03000  \n",
       "50%     112.96000  \n",
       "75%     113.34000  \n",
       "max     114.44000  "
      ]
     },
     "execution_count": 10,
     "metadata": {},
     "output_type": "execute_result"
    }
   ],
   "source": [
    "initial_data.describe()"
   ]
  },
  {
   "cell_type": "code",
   "execution_count": 79,
   "id": "a6e14b2f",
   "metadata": {},
   "outputs": [
    {
     "data": {
      "text/html": [
       "<div>\n",
       "<style scoped>\n",
       "    .dataframe tbody tr th:only-of-type {\n",
       "        vertical-align: middle;\n",
       "    }\n",
       "\n",
       "    .dataframe tbody tr th {\n",
       "        vertical-align: top;\n",
       "    }\n",
       "\n",
       "    .dataframe thead th {\n",
       "        text-align: right;\n",
       "    }\n",
       "</style>\n",
       "<table border=\"1\" class=\"dataframe\">\n",
       "  <thead>\n",
       "    <tr style=\"text-align: right;\">\n",
       "      <th></th>\n",
       "      <th>is_genuine</th>\n",
       "      <th>diagonal</th>\n",
       "      <th>height_left</th>\n",
       "      <th>height_right</th>\n",
       "      <th>margin_low</th>\n",
       "      <th>margin_up</th>\n",
       "      <th>length</th>\n",
       "    </tr>\n",
       "  </thead>\n",
       "  <tbody>\n",
       "    <tr>\n",
       "      <th>72</th>\n",
       "      <td>True</td>\n",
       "      <td>171.94</td>\n",
       "      <td>103.89</td>\n",
       "      <td>103.45</td>\n",
       "      <td>NaN</td>\n",
       "      <td>3.25</td>\n",
       "      <td>112.79</td>\n",
       "    </tr>\n",
       "    <tr>\n",
       "      <th>99</th>\n",
       "      <td>True</td>\n",
       "      <td>171.93</td>\n",
       "      <td>104.07</td>\n",
       "      <td>104.18</td>\n",
       "      <td>NaN</td>\n",
       "      <td>3.14</td>\n",
       "      <td>113.08</td>\n",
       "    </tr>\n",
       "    <tr>\n",
       "      <th>151</th>\n",
       "      <td>True</td>\n",
       "      <td>172.07</td>\n",
       "      <td>103.80</td>\n",
       "      <td>104.38</td>\n",
       "      <td>NaN</td>\n",
       "      <td>3.02</td>\n",
       "      <td>112.93</td>\n",
       "    </tr>\n",
       "    <tr>\n",
       "      <th>197</th>\n",
       "      <td>True</td>\n",
       "      <td>171.45</td>\n",
       "      <td>103.66</td>\n",
       "      <td>103.80</td>\n",
       "      <td>NaN</td>\n",
       "      <td>3.62</td>\n",
       "      <td>113.27</td>\n",
       "    </tr>\n",
       "    <tr>\n",
       "      <th>241</th>\n",
       "      <td>True</td>\n",
       "      <td>171.83</td>\n",
       "      <td>104.14</td>\n",
       "      <td>104.06</td>\n",
       "      <td>NaN</td>\n",
       "      <td>3.02</td>\n",
       "      <td>112.36</td>\n",
       "    </tr>\n",
       "  </tbody>\n",
       "</table>\n",
       "</div>"
      ],
      "text/plain": [
       "     is_genuine  diagonal  height_left  height_right  margin_low  margin_up  \\\n",
       "72         True    171.94       103.89        103.45         NaN       3.25   \n",
       "99         True    171.93       104.07        104.18         NaN       3.14   \n",
       "151        True    172.07       103.80        104.38         NaN       3.02   \n",
       "197        True    171.45       103.66        103.80         NaN       3.62   \n",
       "241        True    171.83       104.14        104.06         NaN       3.02   \n",
       "\n",
       "     length  \n",
       "72   112.79  \n",
       "99   113.08  \n",
       "151  112.93  \n",
       "197  113.27  \n",
       "241  112.36  "
      ]
     },
     "execution_count": 79,
     "metadata": {},
     "output_type": "execute_result"
    }
   ],
   "source": [
    "# margin_low missing values display\n",
    "initial_data.loc[initial_data[\"margin_low\"].isna(),:].head(5)"
   ]
  },
  {
   "cell_type": "code",
   "execution_count": 82,
   "id": "ddddad7d",
   "metadata": {},
   "outputs": [],
   "source": [
    "from scipy import stats"
   ]
  },
  {
   "cell_type": "code",
   "execution_count": 83,
   "id": "fa8f555c",
   "metadata": {},
   "outputs": [
    {
     "name": "stdout",
     "output_type": "stream",
     "text": [
      "Outliers detected : 16\n"
     ]
    }
   ],
   "source": [
    "# All values must be under z_score = 3 (0.5% of outliers called)\n",
    "outliers_filter = (stats.zscore(initial_data[~initial_data[\"margin_low\"].isna()][features]) < 3).all(axis=1) \n",
    "index = [i for i, val in enumerate(outliers_filter) if val]\n",
    "\n",
    "# number of outliers\n",
    "\n",
    "outliers_nb = len(outliers_filter) - outliers_filter.sum()\n",
    "print(\"Outliers detected : {}\".format(outliers_nb))\n",
    "\n",
    "# outliers removing\n",
    "\n",
    "outliersless = initial_data.loc[index]"
   ]
  },
  {
   "cell_type": "code",
   "execution_count": 85,
   "id": "a31fff14",
   "metadata": {},
   "outputs": [],
   "source": [
    "# check Outliers \n"
   ]
  },
  {
   "cell_type": "markdown",
   "id": "f0080f6a",
   "metadata": {},
   "source": [
    "# Features engineering"
   ]
  },
  {
   "cell_type": "markdown",
   "id": "d3133e63",
   "metadata": {},
   "source": [
    "## Multiple Linear Regression with outliers (True class)"
   ]
  },
  {
   "cell_type": "markdown",
   "id": "76e07b8a",
   "metadata": {},
   "source": [
    "## Multiple Linear Regression with outliers (True and False classes mixed)"
   ]
  },
  {
   "cell_type": "code",
   "execution_count": 89,
   "id": "68df0737",
   "metadata": {},
   "outputs": [],
   "source": [
    "# Faire des tests pour valider les contraintes d'utilisation d'une RLM"
   ]
  },
  {
   "cell_type": "code",
   "execution_count": 74,
   "id": "62344d58",
   "metadata": {
    "scrolled": false
   },
   "outputs": [
    {
     "name": "stdout",
     "output_type": "stream",
     "text": [
      "True examples : 1463\n",
      "Missing values rate : 0.024666666666666615\n",
      "Intercept :\n",
      "28.136080581718474\n",
      "\n",
      " Coefficients : \n",
      "[('diagonal', -0.10186272346539829), ('height_left', 0.15916305172793174), ('height_right', 0.2377876907773883), ('margin_up', 0.23173527005070974), ('length', -0.427122489800819)]\n",
      "      margin_low    y_pred\n",
      "1476        5.13  5.228728\n",
      "57          4.01  4.135039\n",
      "411         3.74  4.085668\n",
      "961         4.10  4.466255\n",
      "650         3.78  4.250721\n",
      "...          ...       ...\n",
      "524         4.58  4.345420\n",
      "1437        5.67  4.745447\n",
      "407         4.45  3.987420\n",
      "1387        5.39  5.104386\n",
      "272         4.25  4.327206\n",
      "\n",
      "[439 rows x 2 columns]\n",
      "R squared: 47.68\n",
      "Mean Absolute Error: 0.36674588801493613\n",
      "Mean Square Error: 0.22806347286184822\n",
      "Root Mean Square Error: 0.47755991546804705\n"
     ]
    }
   ],
   "source": [
    "# Replace missing values with multiple linear regression results\n",
    "\n",
    "from sklearn.model_selection import train_test_split\n",
    "from sklearn.linear_model import LinearRegression\n",
    "from sklearn import metrics\n",
    "\n",
    "\n",
    "# parameters dict\n",
    "\n",
    "parameters_ = {\"test_size\": 0.3,\n",
    "              \"data_set_size\": 1500}\n",
    "\n",
    "features = initial_data.columns[1:]\n",
    "data_set = initial_data.loc[(~initial_data[\"margin_low\"].isna()),\n",
    "                            features][:parameters_[\"data_set_size\"]]\n",
    "\n",
    "# Get number of true observations \n",
    "\n",
    "nb_true_obs_ = len(initial_data)\n",
    "nb_true_obs = data_set.shape[0]\n",
    "print(\"True examples : {}\".format(nb_true_obs))\n",
    "print(\"Missing values rate : {}\".format(1 - (nb_true_obs / nb_true_obs_)))\n",
    "\n",
    "# setting X and Y vectors\n",
    "features = list(features)\n",
    "x_features = [feature for feature in features if feature!=\"margin_low\"]\n",
    "y_features = [\"margin_low\"]\n",
    "\n",
    "X = data_set[x_features]\n",
    "y = data_set[y_features]\n",
    "\n",
    "# Splitting between train and test set\n",
    "\n",
    "x_train, x_test, y_train, y_test = train_test_split(X,y,test_size=parameters_[\"test_size\"], random_state=100)\n",
    "\n",
    "# Fitting mlr with train set\n",
    "\n",
    "mlr = LinearRegression()\n",
    "mlr.fit(x_train, y_train)\n",
    "\n",
    "# Parameters vectors\n",
    "print(\"Intercept :\")\n",
    "print(*mlr.intercept_)\n",
    "print(\"\\n Coefficients : \")\n",
    "print(list(zip(X,mlr.coef_.flatten())))\n",
    "\n",
    "# Prediction on test set\n",
    "\n",
    "y_pred = mlr.predict(x_test)\n",
    "y_test[\"y_pred\"] = y_pred\n",
    "print(y_test)\n",
    "# mlr evaluation\n",
    "\n",
    "R_square = mlr.score(X,y)\n",
    "\n",
    "meanAbErr = metrics.mean_absolute_error(y_test[\"margin_low\"], y_pred)\n",
    "meanSqErr = metrics.mean_squared_error(y_test[\"margin_low\"], y_pred)\n",
    "rootMeanSqErr = np.sqrt(metrics.mean_squared_error(y_test[\"margin_low\"], y_pred))\n",
    "\n",
    "print('R squared: {:.2f}'.format(mlr.score(X,y)*100))\n",
    "print('Mean Absolute Error:', meanAbErr)\n",
    "print('Mean Square Error:', meanSqErr)\n",
    "print('Root Mean Square Error:', rootMeanSqErr)"
   ]
  },
  {
   "cell_type": "markdown",
   "id": "d837ca3f",
   "metadata": {},
   "source": [
    "## Multiple Linear Regression outliers free (True and False classes mixed)"
   ]
  },
  {
   "cell_type": "code",
   "execution_count": 76,
   "id": "a21a6dce",
   "metadata": {},
   "outputs": [
    {
     "name": "stdout",
     "output_type": "stream",
     "text": [
      "True examples : 1410\n",
      "Missing values rate : 0.02557014512785072\n",
      "Intercept :\n",
      "24.708427166370456\n",
      "\n",
      " Coefficients : \n",
      "[('diagonal', -0.11200307516176831), ('height_left', 0.16598233025822262), ('height_right', 0.26453532916952505), ('margin_up', 0.27243521330452947), ('length', -0.41344413008884595)]\n",
      "      margin_low    y_pred\n",
      "356         4.14  4.026812\n",
      "513         4.17  4.295759\n",
      "544         4.52  4.005212\n",
      "1267        5.47  4.514501\n",
      "888         4.28  4.178911\n",
      "...          ...       ...\n",
      "1317        4.71  4.909720\n",
      "150         4.08  4.243935\n",
      "681         4.08  4.281633\n",
      "658         3.90  4.097555\n",
      "963         3.96  3.925724\n",
      "\n",
      "[423 rows x 2 columns]\n",
      "R squared: 47.88\n",
      "Mean Absolute Error: 0.37206698354492673\n",
      "Mean Square Error: 0.23128543091771298\n",
      "Root Mean Square Error: 0.4809214394448567\n"
     ]
    }
   ],
   "source": [
    "from sklearn.model_selection import train_test_split\n",
    "from sklearn.linear_model import LinearRegression\n",
    "from sklearn import metrics\n",
    "\n",
    "\n",
    "# parameters dict\n",
    "\n",
    "parameters_ = {\"test_size\": 0.3,\n",
    "              \"data_set_size\": 1500}\n",
    "\n",
    "features = outliersless.columns[1:]\n",
    "data_set = outliersless.loc[(~outliersless[\"margin_low\"].isna()),\n",
    "                            features][:parameters_[\"data_set_size\"]]\n",
    "\n",
    "# Get number of true observations \n",
    "\n",
    "nb_true_obs_ = len(outliersless)\n",
    "nb_true_obs = data_set.shape[0]\n",
    "print(\"True examples : {}\".format(nb_true_obs))\n",
    "print(\"Missing values rate : {}\".format(1 - (nb_true_obs / nb_true_obs_)))\n",
    "\n",
    "# setting X and Y vectors\n",
    "features = list(features)\n",
    "x_features = [feature for feature in features if feature!=\"margin_low\"]\n",
    "y_features = [\"margin_low\"]\n",
    "\n",
    "X = data_set[x_features]\n",
    "y = data_set[y_features]\n",
    "\n",
    "# Splitting between train and test set\n",
    "\n",
    "x_train, x_test, y_train, y_test = train_test_split(X,y,test_size=parameters_[\"test_size\"], random_state=100)\n",
    "\n",
    "# Fitting mlr with train set\n",
    "\n",
    "mlr = LinearRegression()\n",
    "mlr.fit(x_train, y_train)\n",
    "\n",
    "# Parameters vectors\n",
    "print(\"Intercept :\")\n",
    "print(*mlr.intercept_)\n",
    "print(\"\\n Coefficients : \")\n",
    "print(list(zip(X,mlr.coef_.flatten())))\n",
    "\n",
    "# Prediction on test set\n",
    "\n",
    "y_pred = mlr.predict(x_test)\n",
    "y_test[\"y_pred\"] = y_pred\n",
    "print(y_test)\n",
    "# mlr evaluation\n",
    "\n",
    "R_square = mlr.score(X,y)\n",
    "\n",
    "meanAbErr = metrics.mean_absolute_error(y_test[\"margin_low\"], y_pred)\n",
    "meanSqErr = metrics.mean_squared_error(y_test[\"margin_low\"], y_pred)\n",
    "rootMeanSqErr = np.sqrt(metrics.mean_squared_error(y_test[\"margin_low\"], y_pred))\n",
    "\n",
    "print('R squared: {:.2f}'.format(mlr.score(X,y)*100))\n",
    "print('Mean Absolute Error:', meanAbErr)\n",
    "print('Mean Square Error:', meanSqErr)\n",
    "print('Root Mean Square Error:', rootMeanSqErr)"
   ]
  },
  {
   "cell_type": "markdown",
   "id": "59852d63",
   "metadata": {},
   "source": [
    "## Which of these model Can I use for missing values replacement ?"
   ]
  },
  {
   "cell_type": "code",
   "execution_count": 86,
   "id": "85ad12cc",
   "metadata": {},
   "outputs": [],
   "source": [
    "# fill missing values with mlr margin low predictions\n",
    "\n",
    "x_data = initial_data.loc[initial_data[\"margin_low\"].isna(), x_features]\n",
    "margin_low_predict = mlr.predict(x_data)\n",
    "\n",
    "index = list(initial_data.loc[initial_data[\"margin_low\"].isna(),:].index)\n",
    "for index, value in zip(index, margin_low_predict):\n",
    "    initial_data.loc[index,\"margin_low\"] = value"
   ]
  },
  {
   "cell_type": "code",
   "execution_count": 88,
   "id": "d9b64903",
   "metadata": {},
   "outputs": [
    {
     "data": {
      "text/plain": [
       "is_genuine      0\n",
       "diagonal        0\n",
       "height_left     0\n",
       "height_right    0\n",
       "margin_low      0\n",
       "margin_up       0\n",
       "length          0\n",
       "dtype: int64"
      ]
     },
     "execution_count": 88,
     "metadata": {},
     "output_type": "execute_result"
    }
   ],
   "source": [
    "initial_data.isna().sum()"
   ]
  }
 ],
 "metadata": {
  "kernelspec": {
   "display_name": "Python 3 (ipykernel)",
   "language": "python",
   "name": "python3"
  },
  "language_info": {
   "codemirror_mode": {
    "name": "ipython",
    "version": 3
   },
   "file_extension": ".py",
   "mimetype": "text/x-python",
   "name": "python",
   "nbconvert_exporter": "python",
   "pygments_lexer": "ipython3",
   "version": "3.9.12"
  }
 },
 "nbformat": 4,
 "nbformat_minor": 5
}
